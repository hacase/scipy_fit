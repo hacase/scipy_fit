{
 "cells": [
  {
   "cell_type": "markdown",
   "metadata": {},
   "source": [
    "preamble"
   ]
  },
  {
   "cell_type": "code",
   "execution_count": 1,
   "metadata": {},
   "outputs": [],
   "source": [
    "import numpy as np\n",
    "import matplotlib.pyplot as plt\n",
    "import scipy_fit as fit\n",
    "%matplotlib inline\n",
    "\n",
    "# data=np.loadtxt('.txt')\n",
    "\n",
    "# fit.saveplot(fig_width=5.5)\n",
    "# fig, ax = plt.subplots()\n",
    "# ax.errorbar(,yerr=np.sqrt(range(12)),ms=3,mew=0.5,marker=\"x\",ls='',lw=0.5,capsize=2,label='Werte')\n",
    "# ax.plot(,lw=0.5,label='Fit')\n",
    "# ax.set_xlabel('x')\n",
    "# ax.set_ylabel('y')\n",
    "# plt.legend()\n",
    "# plt.show()\n",
    "# plt.savefig(\"\")\n",
    "# fit.revert_params()"
   ]
  },
  {
   "cell_type": "markdown",
   "metadata": {},
   "source": [
    "y-error with curve_fit  \n",
    "R^2 should be near 1"
   ]
  },
  {
   "cell_type": "code",
   "execution_count": 2,
   "metadata": {},
   "outputs": [
    {
     "name": "stdout",
     "output_type": "stream",
     "text": [
      "#===== Results of Fit =====#\n",
      "Fit model: lin\n",
      "=== Parameter Values ===\n",
      "Par. 1: 9.61e-01 +/- 7.15e-02\n",
      "Par. 2: 4.00e-01 +/- 2.87e-01\n",
      "=== Goodness of fit ===\n",
      "R^2: 0.9650908099001132\n",
      "\n",
      "\n"
     ]
    }
   ],
   "source": [
    "x=np.arange(0,12,1)\n",
    "y=np.array([1, 1, 3, 2, 4, 5, 6, 8, 9, 10, 10, 11])\n",
    "xerr=np.sqrt(y)\n",
    "yerr=np.sqrt(y)\n",
    "\n",
    "def lin(x, a, b):\n",
    "    return x * a + b\n",
    "\n",
    "fit.exefit(lin,x,y,yerr=yerr)"
   ]
  },
  {
   "cell_type": "markdown",
   "metadata": {},
   "source": [
    "with x-error use argument init for amount of variables  \n",
    "Chi^2 should be near 0  \n",
    "copy set to true gives code for matplotlib environment  \n",
    "flag set to true gives visual of fit  "
   ]
  },
  {
   "cell_type": "code",
   "execution_count": 3,
   "metadata": {},
   "outputs": [
    {
     "name": "stdout",
     "output_type": "stream",
     "text": [
      "#===== Results of Fit =====#\n",
      "Fit model: linx\n",
      "=== Parameter Values ===\n",
      "Par. 1: 9.87e-01 +/- 7.24e-02\n",
      "Par. 2: 3.30e-01 +/- 2.90e-01\n",
      "=== Goodness of fit ===\n",
      "Chi^2: 0.09098610513026352\n",
      "\n",
      "params=np.array([9.868e-01,3.299e-01])\n",
      "ax.plot(x,linx(params,x),lw=0.5,label='Fit')\n",
      "\n",
      "\n"
     ]
    },
    {
     "data": {
      "image/png": "[encoded data removed]",
      "text/plain": [
       "<Figure size 432x288 with 1 Axes>"
      ]
     },
     "metadata": {
      "needs_background": "light"
     },
     "output_type": "display_data"
    }
   ],
   "source": [
    "def linx(p, x):\n",
    "     m, c = p\n",
    "     return m * x + c\n",
    "\n",
    "fit.exefit(linx,x,y,yerr=yerr,xerr=xerr,init=2,copy=1,flag=1)"
   ]
  },
  {
   "cell_type": "markdown",
   "metadata": {},
   "source": [
    "exefit can be executed in matplotlib environment, set argument plot to the axis name of subplot, here ax  \n",
    "set argument l to the label of fit  \n",
    "this wont print results  "
   ]
  },
  {
   "cell_type": "code",
   "execution_count": null,
   "metadata": {},
   "outputs": [],
   "source": [
    "fit.saveplot(fig_width=5.5)\n",
    "fig, ax = plt.subplots()\n",
    "ax.errorbar(x,y,yerr=yerr,xerr=xerr,ms=3,mew=0.5,marker=\"x\",ls='',lw=0.5,capsize=2,label='Werte')\n",
    "fit.exefit(linx,x,y,yerr=yerr,xerr=xerr,plot=ax,l='Fit',init=2)\n",
    "ax.set_xlabel('x')\n",
    "ax.set_ylabel('y')\n",
    "plt.legend()\n",
    "plt.savefig(\"plot.png\")\n",
    "plt.show()\n",
    "fit.revert_params()"
   ]
  },
  {
   "cell_type": "markdown",
   "metadata": {},
   "source": [
    "exefit_gauss fits with a gaussian, equation shown at the definition  \n",
    "set argument offs to true to fit gaussian with offset  "
   ]
  },
  {
   "cell_type": "code",
   "execution_count": null,
   "metadata": {},
   "outputs": [],
   "source": [
    "data=np.loadtxt('ba.txt')\n",
    "chl=data[:,0]\n",
    "reac=data[:,1]\n",
    "reac=reac[:500]\n",
    "chl=chl[:500]\n",
    "\n",
    "fit.exefit_gauss(chl,reac,copy=1,offs=1)"
   ]
  },
  {
   "cell_type": "markdown",
   "metadata": {},
   "source": [
    "results can be stored as lists with retoure set to true  \n",
    "with this code the result is also shown  "
   ]
  },
  {
   "cell_type": "code",
   "execution_count": null,
   "metadata": {},
   "outputs": [],
   "source": [
    "popt,pcov=fit.exefit_gauss(chl,reac,copy=1,flag=1,offs=1,retoure=1)\n",
    "print(popt,pcov)"
   ]
  },
  {
   "cell_type": "markdown",
   "metadata": {},
   "source": [
    "sciexpo returns value and error in ecientific notation with decimal exponent  \n",
    "ltx set to 1 returns table code for latex with newline backslash  \n",
    "ltx set to 2 without backslash  \n",
    "tbl set to true gives python code for latex table  \n",
    "cdot set to true returns code with decimal notation of error with latex cdot command"
   ]
  },
  {
   "cell_type": "code",
   "execution_count": null,
   "metadata": {},
   "outputs": [],
   "source": [
    "val=np.array([4.,30.,703.,12345678.,0.123,0.00089809])\n",
    "err=np.array([2.,4.,0.005,12345.,0.12345,0.0000000009])\n",
    "\n",
    "new_val, new_err, exp, rst=fit.sciexpo(val, err, ltx=1, tbl=1)"
   ]
  },
  {
   "cell_type": "code",
   "execution_count": null,
   "metadata": {},
   "outputs": [],
   "source": [
    "text = list()\n",
    "text.append('\\\\begin{table}[h]\\n')\n",
    "text.append(' \\\\centering\\n')\n",
    "text.append(' \\\\begin{tabular}{l|l|l|l}\\n')\n",
    "text.append(' \\\\hline\\n')\n",
    "text.append(' \\\\end{tabular}\\n')\n",
    "text.append(' \\\\caption{caption}\\n')\n",
    "text.append('\\\\end{table}\\n')\n",
    "\n",
    "with open('table.tex', 'w') as f:\n",
    "    f.writelines(text)"
   ]
  },
  {
   "cell_type": "code",
   "execution_count": null,
   "metadata": {},
   "outputs": [],
   "source": [
    "import io\n",
    "\n",
    "s = open('data.txt').read().replace(',','.')\n",
    "data = np.loadtxt(io.StringIO(s))\n",
    "print(data)"
   ]
  },
  {
   "cell_type": "code",
   "execution_count": null,
   "metadata": {},
   "outputs": [],
   "source": [
    "# np.arange(a,b,n)->numpy array mit Werten im Intervall\n",
    "# von a bis kurz vor b mit n Schrittweite\n",
    "print(np.arange(0,10,1))\n",
    "\n",
    "fig, ax = plt.subplots()\n",
    "i=1\n",
    "ax.plot(np.arange(-np.pi,np.pi,i),np.sin(np.arange(-np.pi,np.pi,i)),label='i=1')\n",
    "i=0.5\n",
    "ax.plot(np.arange(-np.pi,np.pi,i),np.sin(np.arange(-np.pi,np.pi,i)),label='i=0.5')\n",
    "i=0.1\n",
    "ax.plot(np.arange(-np.pi,np.pi,i),np.sin(np.arange(-np.pi,np.pi,i)),label='i=0.1')\n",
    "i=0.00001\n",
    "ax.plot(np.arange(-np.pi,np.pi,i),np.sin(np.arange(-np.pi,np.pi,i)),label='i=0.00001')\n",
    "ax.set_xlabel('x')\n",
    "ax.set_ylabel('y')\n",
    "plt.legend()\n",
    "plt.show()"
   ]
  },
  {
   "cell_type": "code",
   "execution_count": null,
   "metadata": {},
   "outputs": [],
   "source": []
  }
 ],
 "metadata": {
  "kernelspec": {
   "display_name": "Python 3",
   "language": "python",
   "name": "python3"
  },
  "language_info": {
   "codemirror_mode": {
    "name": "ipython",
    "version": 3
   },
   "file_extension": ".py",
   "mimetype": "text/x-python",
   "name": "python",
   "nbconvert_exporter": "python",
   "pygments_lexer": "ipython3",
   "version": "3.8.10"
  }
 },
 "nbformat": 4,
 "nbformat_minor": 4
}
