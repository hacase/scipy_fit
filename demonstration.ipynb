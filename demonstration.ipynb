{
 "cells": [
  {
   "cell_type": "markdown",
   "metadata": {},
   "source": [
    "preamble"
   ]
  },
  {
   "cell_type": "code",
   "execution_count": 46,
   "metadata": {},
   "outputs": [],
   "source": [
    "import numpy as np\n",
    "import matplotlib.pyplot as plt\n",
    "import scipy_fit as fit\n",
    "%matplotlib inline\n",
    "\n",
    "# data=np.loadtxt('.txt')\n",
    "\n",
    "# fit.saveplot(fig_width=5.5)\n",
    "# fig, ax = plt.subplots()\n",
    "# ax.errorbar(,yerr=np.sqrt(range(12)),ms=3,mew=0.5,marker=\"x\",ls='',lw=0.5,capsize=2,label='Werte')\n",
    "# ax.plot(,lw=0.5,label='Fit')\n",
    "# ax.set_xlabel('x')\n",
    "# ax.set_ylabel('y')\n",
    "# plt.legend()\n",
    "# plt.show()\n",
    "# plt.savefig(\"\")\n",
    "# fit.revert_params()"
   ]
  },
  {
   "cell_type": "markdown",
   "metadata": {},
   "source": [
    "y-error with curve_fit  \n",
    "R^2 should be near 1"
   ]
  },
  {
   "cell_type": "code",
   "execution_count": 47,
   "metadata": {},
   "outputs": [
    {
     "name": "stdout",
     "output_type": "stream",
     "text": [
      "#===== Results of Fit =====#\n",
      "Fit model: lin\n",
      "=== Parameter Values ===\n",
      "Par. 1: 9.61e-01 +/- 7.15e-02\n",
      "Par. 2: 4.00e-01 +/- 2.87e-01\n",
      "=== Goodness of fit ===\n",
      "R^2: 0.9650908099001132\n",
      "\n",
      "\n"
     ]
    }
   ],
   "source": [
    "x=np.arange(0,12,1)\n",
    "y=np.array([1, 1, 3, 2, 4, 5, 6, 8, 9, 10, 10, 11])\n",
    "xerr=np.sqrt(y)\n",
    "yerr=np.sqrt(y)\n",
    "\n",
    "def lin(x, a, b):\n",
    "    return x * a + b\n",
    "\n",
    "fit.exefit(lin,x,y,yerr=yerr)"
   ]
  },
  {
   "cell_type": "markdown",
   "metadata": {},
   "source": [
    "with x-error use argument init for amount of variables  \n",
    "Chi^2 should be near 0  \n",
    "copy set to true gives code for matplotlib environment  \n",
    "flag set to true gives visual of fit  "
   ]
  },
  {
   "cell_type": "code",
   "execution_count": 48,
   "metadata": {},
   "outputs": [
    {
     "name": "stdout",
     "output_type": "stream",
     "text": [
      "#===== Results of Fit =====#\n",
      "Fit model: linx\n",
      "=== Parameter Values ===\n",
      "Par. 1: 9.87e-01 +/- 7.24e-02\n",
      "Par. 2: 3.30e-01 +/- 2.90e-01\n",
      "=== Goodness of fit ===\n",
      "Chi^2: 0.09098610513026352\n",
      "\n",
      "params=np.array([9.868e-01,3.299e-01])\n",
      "ax.plot(x,linx(params,x),lw=0.5,label='Fit')\n",
      "\n",
      "\n"
     ]
    },
    {
     "data": {
      "image/png": "[encoded data removed]",
      "text/plain": [
       "<Figure size 432x288 with 1 Axes>"
      ]
     },
     "metadata": {
      "needs_background": "light"
     },
     "output_type": "display_data"
    }
   ],
   "source": [
    "def linx(p, x):\n",
    "     m, c = p\n",
    "     return m * x + c\n",
    "\n",
    "fit.exefit(linx,x,y,yerr=yerr,xerr=xerr,init=2,copy=1,flag=1)"
   ]
  },
  {
   "cell_type": "markdown",
   "metadata": {},
   "source": [
    "exefit can be executed in matplotlib environment, set argument plot to the axis name of subplot, here ax  \n",
    "set argument l to the label of fit  \n",
    "this wont print results  "
   ]
  },
  {
   "cell_type": "code",
   "execution_count": 61,
   "metadata": {},
   "outputs": [
    {
     "data": {
      "image/png": "[encoded data removed]",
      "text/plain": [
       "<Figure size 396x244.741 with 1 Axes>"
      ]
     },
     "metadata": {
      "needs_background": "light"
     },
     "output_type": "display_data"
    }
   ],
   "source": [
    "fit.saveplot(fig_width=5.5)\n",
    "fig, ax = plt.subplots()\n",
    "ax.errorbar(x,y,yerr=yerr,xerr=xerr,ms=3,mew=0.5,marker=\"x\",ls='',lw=0.5,capsize=2,label='Werte')\n",
    "fit.exefit(linx,x,y,yerr=yerr,xerr=xerr,plot=ax,l='Fit',init=2)\n",
    "ax.set_xlabel('x')\n",
    "ax.set_ylabel('y')\n",
    "plt.legend()\n",
    "plt.savefig(\"plot.png\")\n",
    "plt.show()\n",
    "fit.revert_params()"
   ]
  },
  {
   "cell_type": "markdown",
   "metadata": {},
   "source": [
    "exefit_gauss fits with a gaussian, equation shown at the definition  \n",
    "set argument offs to true to fit gaussian with offset  "
   ]
  },
  {
   "cell_type": "code",
   "execution_count": 50,
   "metadata": {},
   "outputs": [
    {
     "name": "stdout",
     "output_type": "stream",
     "text": [
      "#===== Results of Fit =====#\n",
      "Fit model: exefit_gauss.<locals>.gauss_offs\n",
      "def gauss_offs(x,A,x0,sigma,b):\n",
      "    return A*np.exp(-(x-x0)**2/(2.*sigma**2))+b\n",
      "=== Parameter Values ===\n",
      "A:     9.12e+02 +/- 4.47e+00\n",
      "x0:    2.74e+02 +/- 2.33e-01\n",
      "sigma: 4.31e+01 +/- 2.64e-01\n",
      "b:     4.33e+01 +/- 1.85e+00\n",
      "=== Goodness of fit ===\n",
      "R^2: 0.9896689616216657\n",
      "\n",
      "ax.plot(chl,gauss_offs(chl,9.123e+02,2.743e+02,4.307e+01,4.331e+01),lw=0.5,label='Fit')\n",
      "\n",
      "\n"
     ]
    }
   ],
   "source": [
    "data=np.loadtxt('ba.txt')\n",
    "chl=data[:,0]\n",
    "reac=data[:,1]\n",
    "reac=reac[:500]\n",
    "chl=chl[:500]\n",
    "\n",
    "fit.exefit_gauss(chl,reac,copy=1,offs=1)"
   ]
  },
  {
   "cell_type": "markdown",
   "metadata": {},
   "source": [
    "results can be stored as lists with retoure set to true  \n",
    "with this code the result is also shown  "
   ]
  },
  {
   "cell_type": "code",
   "execution_count": 51,
   "metadata": {},
   "outputs": [
    {
     "name": "stdout",
     "output_type": "stream",
     "text": [
      "#===== Results of Fit =====#\n",
      "Fit model: exefit_gauss.<locals>.gauss_offs\n",
      "def gauss_offs(x,A,x0,sigma,b):\n",
      "    return A*np.exp(-(x-x0)**2/(2.*sigma**2))+b\n",
      "=== Parameter Values ===\n",
      "A:     9.12e+02 +/- 4.47e+00\n",
      "x0:    2.74e+02 +/- 2.33e-01\n",
      "sigma: 4.31e+01 +/- 2.64e-01\n",
      "b:     4.33e+01 +/- 1.85e+00\n",
      "=== Goodness of fit ===\n",
      "R^2: 0.9896689616216657\n",
      "\n",
      "ax.plot(chl,gauss_offs(chl,9.123e+02,2.743e+02,4.307e+01,4.331e+01),lw=0.5,label='Fit')\n",
      "[912.2922057  274.34268288  43.06616503  43.31254786] [4.46828387 0.23287766 0.2636426  1.85130891]\n"
     ]
    },
    {
     "data": {
      "image/png": "[encoded data removed]",
      "text/plain": [
       "<Figure size 432x288 with 1 Axes>"
      ]
     },
     "metadata": {
      "needs_background": "light"
     },
     "output_type": "display_data"
    }
   ],
   "source": [
    "popt,pcov=fit.exefit_gauss(chl,reac,copy=1,flag=1,offs=1,retoure=1)\n",
    "print(popt,pcov)"
   ]
  },
  {
   "cell_type": "markdown",
   "metadata": {},
   "source": [
    "sciexpo returns value and error in ecientific notation with decimal exponent  \n",
    "ltx set to 1 returns table code for latex with newline backslash  \n",
    "ltx set to 2 without backslash  \n",
    "tbl set to true gives python code for latex table  \n",
    "cdot set to true returns code with decimal notation of error with latex cdot command"
   ]
  },
  {
   "cell_type": "code",
   "execution_count": 52,
   "metadata": {},
   "outputs": [
    {
     "name": "stdout",
     "output_type": "stream",
     "text": [
      "$\\sciexpo{4.00}{2.00}$\\\\\n",
      "$\\sciexp{3.00}{0.40}{e1}$\\\\\n",
      "$\\sciexp{7.03}{\\num{5.00e-5}}{e2}$\\\\\n",
      "$\\sciexp{1.23}{\\num{1.23e-3}}{e7}$\\\\\n",
      "$\\sciexp{1.23}{1.23}{e-1}$\\\\\n",
      "$\\sciexp{8.98}{\\num{9.00e-6}}{e-4}$\\\\\n",
      "for i in range(len(val)):\n",
      "    if exp[i]==0:\n",
      "        if rst[i]==0:\n",
      "            text.append(' $\\\\sciexpo{')\n",
      "            text.append(f' {new_val[i]:.2f}')\n",
      "            text.append(' }{')\n",
      "            text.append(f' {new_err[i]:.2f}')\n",
      "            text.append(' }$\\\\\\\\\\n')\n",
      "        else:\n",
      "            text.append(' $\\\\sciexpo{')\n",
      "            text.append(f' {new_val[i]:.2f}')\n",
      "            text.append(' }{\\\\num{')\n",
      "            text.append(f' {new_err[i]:.2f}e')\n",
      "            text.append(f' {rst[i]}$')\n",
      "            text.append('\\\\\\\\\\n')\n",
      "    else:\n",
      "        if rst[i]==0:\n",
      "            text.append(' $\\\\sciexp{')\n",
      "            text.append(f' {new_val[i]:.2f}')\n",
      "            text.append(' }{')\n",
      "            text.append(f' {new_err[i]:.2f}')\n",
      "            text.append(' }{e')\n",
      "            text.append(f' {exp[i]}')\n",
      "            text.append(' }$\\\\\\\\\\n')\n",
      "        else:\n",
      "            text.append(' $\\\\sciexp{')\n",
      "            text.append(f' {new_val[i]:.2f}')\n",
      "            text.append(' }{\\\\num{')\n",
      "            text.append(f' {new_err[i]:.2f}e')\n",
      "            text.append(f' {rst[i]}')\n",
      "            text.append(' }}{e')\n",
      "            text.append(f' {exp[i]}')\n",
      "            text.append(' }$\\\\\\\\\\n')\n"
     ]
    }
   ],
   "source": [
    "val=np.array([4.,30.,703.,12345678.,0.123,0.00089809])\n",
    "err=np.array([2.,4.,0.005,12345.,0.12345,0.0000000009])\n",
    "\n",
    "new_val, new_err, exp, rst=fit.sciexpo(val, err, ltx=1, tbl=1)"
   ]
  },
  {
   "cell_type": "code",
   "execution_count": 96,
   "metadata": {},
   "outputs": [],
   "source": [
    "text = list()\n",
    "text.append('\\\\begin{table}[h]\\n')\n",
    "text.append(' \\\\centering\\n')\n",
    "text.append(' \\\\begin{tabular}{l|l|l|l}\\n')\n",
    "text.append(' \\\\hline\\n')\n",
    "text.append(' \\\\end{tabular}\\n')\n",
    "text.append(' \\\\caption{caption}\\n')\n",
    "text.append('\\\\end{table}\\n')\n",
    "\n",
    "with open('table.tex', 'w') as f:\n",
    "    f.writelines(text)"
   ]
  },
  {
   "cell_type": "code",
   "execution_count": 112,
   "metadata": {},
   "outputs": [
    {
     "ename": "AttributeError",
     "evalue": "type object '_io.StringIO' has no attribute 'StringIO'",
     "output_type": "error",
     "traceback": [
      "\u001b[0;31m---------------------------------------------------------------------------\u001b[0m",
      "\u001b[0;31mAttributeError\u001b[0m                            Traceback (most recent call last)",
      "\u001b[0;32m<ipython-input-112-bcd36405fa77>\u001b[0m in \u001b[0;36m<module>\u001b[0;34m\u001b[0m\n\u001b[1;32m      3\u001b[0m \u001b[0;34m\u001b[0m\u001b[0m\n\u001b[1;32m      4\u001b[0m \u001b[0ms\u001b[0m \u001b[0;34m=\u001b[0m \u001b[0mopen\u001b[0m\u001b[0;34m(\u001b[0m\u001b[0;34m'data.txt'\u001b[0m\u001b[0;34m)\u001b[0m\u001b[0;34m.\u001b[0m\u001b[0mread\u001b[0m\u001b[0;34m(\u001b[0m\u001b[0;34m)\u001b[0m\u001b[0;34m.\u001b[0m\u001b[0mreplace\u001b[0m\u001b[0;34m(\u001b[0m\u001b[0;34m','\u001b[0m\u001b[0;34m,\u001b[0m\u001b[0;34m'.'\u001b[0m\u001b[0;34m)\u001b[0m\u001b[0;34m\u001b[0m\u001b[0;34m\u001b[0m\u001b[0m\n\u001b[0;32m----> 5\u001b[0;31m \u001b[0mdata\u001b[0m \u001b[0;34m=\u001b[0m \u001b[0mnp\u001b[0m\u001b[0;34m.\u001b[0m\u001b[0mloadtxt\u001b[0m\u001b[0;34m(\u001b[0m\u001b[0mio\u001b[0m\u001b[0;34m.\u001b[0m\u001b[0mStringIO\u001b[0m\u001b[0;34m.\u001b[0m\u001b[0mStringIO\u001b[0m\u001b[0;34m(\u001b[0m\u001b[0ms\u001b[0m\u001b[0;34m)\u001b[0m\u001b[0;34m)\u001b[0m\u001b[0;34m\u001b[0m\u001b[0;34m\u001b[0m\u001b[0m\n\u001b[0m\u001b[1;32m      6\u001b[0m \u001b[0mprint\u001b[0m\u001b[0;34m(\u001b[0m\u001b[0mdata\u001b[0m\u001b[0;34m)\u001b[0m\u001b[0;34m\u001b[0m\u001b[0;34m\u001b[0m\u001b[0m\n",
      "\u001b[0;31mAttributeError\u001b[0m: type object '_io.StringIO' has no attribute 'StringIO'"
     ]
    }
   ],
   "source": [
    "import io\n",
    "import numpy as np\n",
    "\n",
    "s = open('data.txt').read().replace(',','.')\n",
    "data = np.loadtxt(io.StringIO.StringIO(s))\n",
    "print(data)"
   ]
  },
  {
   "cell_type": "code",
   "execution_count": null,
   "metadata": {},
   "outputs": [],
   "source": []
  }
 ],
 "metadata": {
  "kernelspec": {
   "display_name": "Python 3",
   "language": "python",
   "name": "python3"
  },
  "language_info": {
   "codemirror_mode": {
    "name": "ipython",
    "version": 3
   },
   "file_extension": ".py",
   "mimetype": "text/x-python",
   "name": "python",
   "nbconvert_exporter": "python",
   "pygments_lexer": "ipython3",
   "version": "3.8.10"
  }
 },
 "nbformat": 4,
 "nbformat_minor": 4
}
